{
 "cells": [
  {
   "cell_type": "markdown",
   "metadata": {},
   "source": [
    "# Equal-Weight S&P 500 Index Fund\n",
    "\n",
    "## Introduction & Library Imports\n",
    "\n",
    "The S&P 500 is the world's most popular stock market index. The largest fund that is benchmarked to this index is the SPDR® S&P 500® ETF Trust. It has more than US$250 billion of assets under management.\n",
    "\n",
    "The goal of this section of the course is to create a Python script that will accept the value of your portfolio and tell you how many shares of each S&P 500 constituent you should purchase to get an equal-weight version of the index fund.\n",
    "\n",
    "## Library Imports\n",
    "\n",
    "The first thing we need to do is import the open-source software libraries that we'll be using in this tutorial."
   ]
  },
  {
   "cell_type": "code",
   "execution_count": 4,
   "metadata": {},
   "outputs": [],
   "source": [
    "import numpy as np\n",
    "import pandas as pd\n",
    "import requests\n",
    "import xlsxwriter\n",
    "import math"
   ]
  },
  {
   "cell_type": "markdown",
   "metadata": {},
   "source": [
    "## Importing Our List of Stocks\n",
    "\n",
    "The next thing we need to do is import the constituents of the S&P 500.\n",
    "\n",
    "These constituents change over time, so in an ideal world you would connect directly to the index provider (Standard & Poor's) and pull their real-time constituents on a regular basis.\n",
    "\n",
    "Paying for access to the index provider's API is outside of the scope of this course. \n",
    "\n",
    "There's a static version of the S&P 500 constituents available here. [Click this link to download them now](https://drive.google.com/file/d/1ZJSpbY69DVckVZlO9cC6KkgfSufybcHN/view?usp=sharing). Move this file into the `starter-files` folder so it can be accessed by other files in that directory.\n",
    "\n",
    "Now it's time to import these stocks to our Jupyter Notebook file."
   ]
  },
  {
   "cell_type": "code",
   "execution_count": 5,
   "metadata": {},
   "outputs": [
    {
     "data": {
      "text/html": [
       "<div>\n",
       "<style scoped>\n",
       "    .dataframe tbody tr th:only-of-type {\n",
       "        vertical-align: middle;\n",
       "    }\n",
       "\n",
       "    .dataframe tbody tr th {\n",
       "        vertical-align: top;\n",
       "    }\n",
       "\n",
       "    .dataframe thead th {\n",
       "        text-align: right;\n",
       "    }\n",
       "</style>\n",
       "<table border=\"1\" class=\"dataframe\">\n",
       "  <thead>\n",
       "    <tr style=\"text-align: right;\">\n",
       "      <th></th>\n",
       "      <th>Ticker</th>\n",
       "    </tr>\n",
       "  </thead>\n",
       "  <tbody>\n",
       "    <tr>\n",
       "      <th>0</th>\n",
       "      <td>A</td>\n",
       "    </tr>\n",
       "    <tr>\n",
       "      <th>1</th>\n",
       "      <td>AAL</td>\n",
       "    </tr>\n",
       "    <tr>\n",
       "      <th>2</th>\n",
       "      <td>AAP</td>\n",
       "    </tr>\n",
       "    <tr>\n",
       "      <th>3</th>\n",
       "      <td>AAPL</td>\n",
       "    </tr>\n",
       "    <tr>\n",
       "      <th>4</th>\n",
       "      <td>ABBV</td>\n",
       "    </tr>\n",
       "    <tr>\n",
       "      <th>...</th>\n",
       "      <td>...</td>\n",
       "    </tr>\n",
       "    <tr>\n",
       "      <th>500</th>\n",
       "      <td>YUM</td>\n",
       "    </tr>\n",
       "    <tr>\n",
       "      <th>501</th>\n",
       "      <td>ZBH</td>\n",
       "    </tr>\n",
       "    <tr>\n",
       "      <th>502</th>\n",
       "      <td>ZBRA</td>\n",
       "    </tr>\n",
       "    <tr>\n",
       "      <th>503</th>\n",
       "      <td>ZION</td>\n",
       "    </tr>\n",
       "    <tr>\n",
       "      <th>504</th>\n",
       "      <td>ZTS</td>\n",
       "    </tr>\n",
       "  </tbody>\n",
       "</table>\n",
       "<p>505 rows × 1 columns</p>\n",
       "</div>"
      ],
      "text/plain": [
       "    Ticker\n",
       "0        A\n",
       "1      AAL\n",
       "2      AAP\n",
       "3     AAPL\n",
       "4     ABBV\n",
       "..     ...\n",
       "500    YUM\n",
       "501    ZBH\n",
       "502   ZBRA\n",
       "503   ZION\n",
       "504    ZTS\n",
       "\n",
       "[505 rows x 1 columns]"
      ]
     },
     "execution_count": 5,
     "metadata": {},
     "output_type": "execute_result"
    }
   ],
   "source": [
    "stocks = pd.read_csv('sp_500_stocks.csv')\n",
    "stocks"
   ]
  },
  {
   "cell_type": "markdown",
   "metadata": {},
   "source": [
    "## Acquiring an API Token\n",
    "\n",
    "Now it's time to import our IEX Cloud API token. This is the data provider that we will be using throughout this course.\n",
    "\n",
    "API tokens (and other sensitive information) should be stored in a `secrets.py` file that doesn't get pushed to your local Git repository. We'll be using a sandbox API token in this course, which means that the data we'll use is randomly-generated and (more importantly) has no cost associated with it.\n",
    "\n",
    "[Click here](http://nickmccullum.com/algorithmic-trading-python/secrets.py) to download your `secrets.py` file. Move the file into the same directory as this Jupyter Notebook before proceeding."
   ]
  },
  {
   "cell_type": "code",
   "execution_count": 6,
   "metadata": {},
   "outputs": [],
   "source": [
    "from secrets import IEX_CLOUD_API_TOKEN"
   ]
  },
  {
   "cell_type": "markdown",
   "metadata": {},
   "source": [
    "## Making Our First API Call\n",
    "\n",
    "Now it's time to structure our API calls to IEX cloud. \n",
    "\n",
    "We need the following information from the API:\n",
    "\n",
    "* Market capitalization for each stock\n",
    "* Price of each stock\n",
    "\n"
   ]
  },
  {
   "cell_type": "code",
   "execution_count": 10,
   "metadata": {},
   "outputs": [
    {
     "name": "stdout",
     "output_type": "stream",
     "text": [
      "{'avgTotalVolume': 89808718, 'calculationPrice': 'close', 'change': 3.39, 'changePercent': 0.02493, 'close': 145.31, 'closeSource': 'ifoalfic', 'closeTime': 1713519029748, 'companyName': 'Apple Inc', 'currency': 'USD', 'delayedPrice': 143.56, 'delayedPriceTime': 1660814053911, 'extendedChange': 0.08, 'extendedChangePercent': 0.00056, 'extendedPrice': 146.41, 'extendedPriceTime': 1698349976201, 'high': 146.06, 'highSource': 'eu1rea mlctdiei n5yd pe', 'highTime': 1713702562389, 'iexAskPrice': None, 'iexAskSize': None, 'iexBidPrice': None, 'iexBidSize': None, 'iexClose': 145.417, 'iexCloseTime': 1670135798538, 'iexLastUpdated': None, 'iexMarketPercent': None, 'iexOpen': 141.66, 'iexOpenTime': 1697036517299, 'iexRealtimePrice': None, 'iexRealtimeSize': None, 'iexVolume': None, 'lastTradeTime': 1659913003452, 'latestPrice': 145.56, 'latestSource': 'Close', 'latestTime': 'June 24, 2022', 'latestUpdate': 1680793360735, 'latestVolume': 93018978, 'low': 144.74, 'lowSource': 'medeaeru1idienpt c  5ly', 'lowTime': 1709645842814, 'marketCap': 2335260864766, 'oddLotDelayedPrice': 147.556, 'oddLotDelayedPriceTime': 1704281997117, 'open': 144.74, 'openTime': 1704741657505, 'openSource': 'laiicffo', 'peRatio': 23.8, 'previousClose': 142.41, 'previousVolume': 72575451, 'primaryExchange': 'DANQAS', 'symbol': 'AAPL', 'volume': 92156985, 'week52High': 185.84, 'week52Low': 129.65, 'ytdChange': -0.1763998800018188, 'isUSMarketOpen': False}\n"
     ]
    }
   ],
   "source": [
    "symbol = 'AAPL'\n",
    "api_url = f'https://sandbox.iexapis.com/stable/stock/{symbol}/quote/?token={IEX_CLOUD_API_TOKEN}'\n",
    "data = requests.get(api_url).json()\n",
    "print(data)"
   ]
  },
  {
   "cell_type": "markdown",
   "metadata": {},
   "source": [
    "## Parsing Our API Call\n",
    "\n",
    "The API call that we executed in the last code block contains all of the information required to build our equal-weight S&P 500 strategy. \n",
    "\n",
    "With that said, the data isn't in a proper format yet. We need to parse it first."
   ]
  },
  {
   "cell_type": "code",
   "execution_count": 17,
   "metadata": {},
   "outputs": [],
   "source": [
    "price = data['latestPrice']\n",
    "market_cap = data['marketCap']"
   ]
  },
  {
   "cell_type": "markdown",
   "metadata": {},
   "source": [
    "## Adding Our Stocks Data to a Pandas DataFrame\n",
    "\n",
    "The next thing we need to do is add our stock's price and market capitalization to a pandas DataFrame. Think of a DataFrame like the Python version of a spreadsheet. It stores tabular data."
   ]
  },
  {
   "cell_type": "code",
   "execution_count": 18,
   "metadata": {},
   "outputs": [
    {
     "data": {
      "text/html": [
       "<div>\n",
       "<style scoped>\n",
       "    .dataframe tbody tr th:only-of-type {\n",
       "        vertical-align: middle;\n",
       "    }\n",
       "\n",
       "    .dataframe tbody tr th {\n",
       "        vertical-align: top;\n",
       "    }\n",
       "\n",
       "    .dataframe thead th {\n",
       "        text-align: right;\n",
       "    }\n",
       "</style>\n",
       "<table border=\"1\" class=\"dataframe\">\n",
       "  <thead>\n",
       "    <tr style=\"text-align: right;\">\n",
       "      <th></th>\n",
       "      <th>Ticker</th>\n",
       "      <th>Stock Price</th>\n",
       "      <th>Market Capitalization</th>\n",
       "      <th>Number of Shares to Buy</th>\n",
       "    </tr>\n",
       "  </thead>\n",
       "  <tbody>\n",
       "  </tbody>\n",
       "</table>\n",
       "</div>"
      ],
      "text/plain": [
       "Empty DataFrame\n",
       "Columns: [Ticker, Stock Price, Market Capitalization, Number of Shares to Buy]\n",
       "Index: []"
      ]
     },
     "execution_count": 18,
     "metadata": {},
     "output_type": "execute_result"
    }
   ],
   "source": [
    "my_columns = [ 'Ticker', 'Stock Price', 'Market Capitalization', 'Number of Shares to Buy' ]\n",
    "final_dataframe = pd.DataFrame(columns = my_columns)\n",
    "final_dataframe"
   ]
  },
  {
   "cell_type": "code",
   "execution_count": 22,
   "metadata": {},
   "outputs": [
    {
     "name": "stderr",
     "output_type": "stream",
     "text": [
      "C:\\Users\\Bryan Hui\\AppData\\Local\\Temp\\ipykernel_27272\\184228998.py:1: FutureWarning: The frame.append method is deprecated and will be removed from pandas in a future version. Use pandas.concat instead.\n",
      "  final_dataframe.append(\n"
     ]
    },
    {
     "data": {
      "text/html": [
       "<div>\n",
       "<style scoped>\n",
       "    .dataframe tbody tr th:only-of-type {\n",
       "        vertical-align: middle;\n",
       "    }\n",
       "\n",
       "    .dataframe tbody tr th {\n",
       "        vertical-align: top;\n",
       "    }\n",
       "\n",
       "    .dataframe thead th {\n",
       "        text-align: right;\n",
       "    }\n",
       "</style>\n",
       "<table border=\"1\" class=\"dataframe\">\n",
       "  <thead>\n",
       "    <tr style=\"text-align: right;\">\n",
       "      <th></th>\n",
       "      <th>Ticker</th>\n",
       "      <th>Stock Price</th>\n",
       "      <th>Market Capitalization</th>\n",
       "      <th>Number of Shares to Buy</th>\n",
       "    </tr>\n",
       "  </thead>\n",
       "  <tbody>\n",
       "    <tr>\n",
       "      <th>0</th>\n",
       "      <td>AAPL</td>\n",
       "      <td>145.56</td>\n",
       "      <td>2335260864766</td>\n",
       "      <td>N/A</td>\n",
       "    </tr>\n",
       "  </tbody>\n",
       "</table>\n",
       "</div>"
      ],
      "text/plain": [
       "  Ticker  Stock Price Market Capitalization Number of Shares to Buy\n",
       "0   AAPL       145.56         2335260864766                     N/A"
      ]
     },
     "execution_count": 22,
     "metadata": {},
     "output_type": "execute_result"
    }
   ],
   "source": [
    "final_dataframe.append(\n",
    "    pd.Series(\n",
    "        [\n",
    "            symbol,\n",
    "            price,\n",
    "            market_cap,\n",
    "            'N/A'\n",
    "        ],\n",
    "        index = my_columns\n",
    "    ),\n",
    "    ignore_index=True\n",
    ")"
   ]
  },
  {
   "cell_type": "markdown",
   "metadata": {},
   "source": [
    "## Looping Through The Tickers in Our List of Stocks\n",
    "\n",
    "Using the same logic that we outlined above, we can pull data for all S&P 500 stocks and store their data in the DataFrame using a `for` loop."
   ]
  },
  {
   "cell_type": "code",
   "execution_count": 48,
   "metadata": {},
   "outputs": [
    {
     "ename": "TypeError",
     "evalue": "unhashable type: 'list'",
     "output_type": "error",
     "traceback": [
      "\u001b[1;31m---------------------------------------------------------------------------\u001b[0m",
      "\u001b[1;31mTypeError\u001b[0m                                 Traceback (most recent call last)",
      "\u001b[1;32me:\\Wampserver64\\www\\algorithmic-trading-python\\Tutorial Projects\\001_equal_weight_S&P_500.ipynb Cell 15'\u001b[0m in \u001b[0;36m<cell line: 3>\u001b[1;34m()\u001b[0m\n\u001b[0;32m      <a href='vscode-notebook-cell:/e%3A/Wampserver64/www/algorithmic-trading-python/Tutorial%20Projects/001_equal_weight_S%26P_500.ipynb#ch0000014?line=3'>4</a>\u001b[0m     api_url \u001b[39m=\u001b[39m \u001b[39mf\u001b[39m\u001b[39m'\u001b[39m\u001b[39mhttps://sandbox.iexapis.com/stable/stock/\u001b[39m\u001b[39m{\u001b[39;00mstock\u001b[39m}\u001b[39;00m\u001b[39m/quote?token=\u001b[39m\u001b[39m{\u001b[39;00mIEX_CLOUD_API_TOKEN\u001b[39m}\u001b[39;00m\u001b[39m'\u001b[39m\n\u001b[0;32m      <a href='vscode-notebook-cell:/e%3A/Wampserver64/www/algorithmic-trading-python/Tutorial%20Projects/001_equal_weight_S%26P_500.ipynb#ch0000014?line=4'>5</a>\u001b[0m     data \u001b[39m=\u001b[39m requests\u001b[39m.\u001b[39mget(api_url)\u001b[39m.\u001b[39mjson() \u001b[39m#slow https request, need to use batch calls to optimize\u001b[39;00m\n\u001b[1;32m----> <a href='vscode-notebook-cell:/e%3A/Wampserver64/www/algorithmic-trading-python/Tutorial%20Projects/001_equal_weight_S%26P_500.ipynb#ch0000014?line=5'>6</a>\u001b[0m     final_dataframe \u001b[39m=\u001b[39m pd\u001b[39m.\u001b[39;49mconcat([final_dataframe,\n\u001b[0;32m      <a href='vscode-notebook-cell:/e%3A/Wampserver64/www/algorithmic-trading-python/Tutorial%20Projects/001_equal_weight_S%26P_500.ipynb#ch0000014?line=6'>7</a>\u001b[0m         (pd\u001b[39m.\u001b[39;49mSeries(\n\u001b[0;32m      <a href='vscode-notebook-cell:/e%3A/Wampserver64/www/algorithmic-trading-python/Tutorial%20Projects/001_equal_weight_S%26P_500.ipynb#ch0000014?line=7'>8</a>\u001b[0m             [\n\u001b[0;32m      <a href='vscode-notebook-cell:/e%3A/Wampserver64/www/algorithmic-trading-python/Tutorial%20Projects/001_equal_weight_S%26P_500.ipynb#ch0000014?line=8'>9</a>\u001b[0m                 stock,\n\u001b[0;32m     <a href='vscode-notebook-cell:/e%3A/Wampserver64/www/algorithmic-trading-python/Tutorial%20Projects/001_equal_weight_S%26P_500.ipynb#ch0000014?line=9'>10</a>\u001b[0m                 data[\u001b[39m'\u001b[39;49m\u001b[39mlatestPrice\u001b[39;49m\u001b[39m'\u001b[39;49m],\n\u001b[0;32m     <a href='vscode-notebook-cell:/e%3A/Wampserver64/www/algorithmic-trading-python/Tutorial%20Projects/001_equal_weight_S%26P_500.ipynb#ch0000014?line=10'>11</a>\u001b[0m                 data[\u001b[39m'\u001b[39;49m\u001b[39mmarketCap\u001b[39;49m\u001b[39m'\u001b[39;49m],\n\u001b[0;32m     <a href='vscode-notebook-cell:/e%3A/Wampserver64/www/algorithmic-trading-python/Tutorial%20Projects/001_equal_weight_S%26P_500.ipynb#ch0000014?line=11'>12</a>\u001b[0m                 \u001b[39m'\u001b[39;49m\u001b[39mN/A\u001b[39;49m\u001b[39m'\u001b[39;49m\n\u001b[0;32m     <a href='vscode-notebook-cell:/e%3A/Wampserver64/www/algorithmic-trading-python/Tutorial%20Projects/001_equal_weight_S%26P_500.ipynb#ch0000014?line=12'>13</a>\u001b[0m             ],\n\u001b[0;32m     <a href='vscode-notebook-cell:/e%3A/Wampserver64/www/algorithmic-trading-python/Tutorial%20Projects/001_equal_weight_S%26P_500.ipynb#ch0000014?line=13'>14</a>\u001b[0m             index \u001b[39m=\u001b[39;49m my_columns\n\u001b[0;32m     <a href='vscode-notebook-cell:/e%3A/Wampserver64/www/algorithmic-trading-python/Tutorial%20Projects/001_equal_weight_S%26P_500.ipynb#ch0000014?line=14'>15</a>\u001b[0m         ))],\n\u001b[0;32m     <a href='vscode-notebook-cell:/e%3A/Wampserver64/www/algorithmic-trading-python/Tutorial%20Projects/001_equal_weight_S%26P_500.ipynb#ch0000014?line=15'>16</a>\u001b[0m     axis\u001b[39m=\u001b[39;49mmy_columns)\n\u001b[0;32m     <a href='vscode-notebook-cell:/e%3A/Wampserver64/www/algorithmic-trading-python/Tutorial%20Projects/001_equal_weight_S%26P_500.ipynb#ch0000014?line=16'>17</a>\u001b[0m final_dataframe\n",
      "File \u001b[1;32mc:\\Users\\Bryan Hui\\AppData\\Local\\Programs\\Python\\Python39\\lib\\site-packages\\pandas\\util\\_decorators.py:311\u001b[0m, in \u001b[0;36mdeprecate_nonkeyword_arguments.<locals>.decorate.<locals>.wrapper\u001b[1;34m(*args, **kwargs)\u001b[0m\n\u001b[0;32m    <a href='file:///c%3A/Users/Bryan%20Hui/AppData/Local/Programs/Python/Python39/lib/site-packages/pandas/util/_decorators.py?line=304'>305</a>\u001b[0m \u001b[39mif\u001b[39;00m \u001b[39mlen\u001b[39m(args) \u001b[39m>\u001b[39m num_allow_args:\n\u001b[0;32m    <a href='file:///c%3A/Users/Bryan%20Hui/AppData/Local/Programs/Python/Python39/lib/site-packages/pandas/util/_decorators.py?line=305'>306</a>\u001b[0m     warnings\u001b[39m.\u001b[39mwarn(\n\u001b[0;32m    <a href='file:///c%3A/Users/Bryan%20Hui/AppData/Local/Programs/Python/Python39/lib/site-packages/pandas/util/_decorators.py?line=306'>307</a>\u001b[0m         msg\u001b[39m.\u001b[39mformat(arguments\u001b[39m=\u001b[39marguments),\n\u001b[0;32m    <a href='file:///c%3A/Users/Bryan%20Hui/AppData/Local/Programs/Python/Python39/lib/site-packages/pandas/util/_decorators.py?line=307'>308</a>\u001b[0m         \u001b[39mFutureWarning\u001b[39;00m,\n\u001b[0;32m    <a href='file:///c%3A/Users/Bryan%20Hui/AppData/Local/Programs/Python/Python39/lib/site-packages/pandas/util/_decorators.py?line=308'>309</a>\u001b[0m         stacklevel\u001b[39m=\u001b[39mstacklevel,\n\u001b[0;32m    <a href='file:///c%3A/Users/Bryan%20Hui/AppData/Local/Programs/Python/Python39/lib/site-packages/pandas/util/_decorators.py?line=309'>310</a>\u001b[0m     )\n\u001b[1;32m--> <a href='file:///c%3A/Users/Bryan%20Hui/AppData/Local/Programs/Python/Python39/lib/site-packages/pandas/util/_decorators.py?line=310'>311</a>\u001b[0m \u001b[39mreturn\u001b[39;00m func(\u001b[39m*\u001b[39margs, \u001b[39m*\u001b[39m\u001b[39m*\u001b[39mkwargs)\n",
      "File \u001b[1;32mc:\\Users\\Bryan Hui\\AppData\\Local\\Programs\\Python\\Python39\\lib\\site-packages\\pandas\\core\\reshape\\concat.py:347\u001b[0m, in \u001b[0;36mconcat\u001b[1;34m(objs, axis, join, ignore_index, keys, levels, names, verify_integrity, sort, copy)\u001b[0m\n\u001b[0;32m    <a href='file:///c%3A/Users/Bryan%20Hui/AppData/Local/Programs/Python/Python39/lib/site-packages/pandas/core/reshape/concat.py?line=142'>143</a>\u001b[0m \u001b[39m@deprecate_nonkeyword_arguments\u001b[39m(version\u001b[39m=\u001b[39m\u001b[39mNone\u001b[39;00m, allowed_args\u001b[39m=\u001b[39m[\u001b[39m\"\u001b[39m\u001b[39mobjs\u001b[39m\u001b[39m\"\u001b[39m])\n\u001b[0;32m    <a href='file:///c%3A/Users/Bryan%20Hui/AppData/Local/Programs/Python/Python39/lib/site-packages/pandas/core/reshape/concat.py?line=143'>144</a>\u001b[0m \u001b[39mdef\u001b[39;00m \u001b[39mconcat\u001b[39m(\n\u001b[0;32m    <a href='file:///c%3A/Users/Bryan%20Hui/AppData/Local/Programs/Python/Python39/lib/site-packages/pandas/core/reshape/concat.py?line=144'>145</a>\u001b[0m     objs: Iterable[NDFrame] \u001b[39m|\u001b[39m Mapping[Hashable, NDFrame],\n\u001b[1;32m   (...)\u001b[0m\n\u001b[0;32m    <a href='file:///c%3A/Users/Bryan%20Hui/AppData/Local/Programs/Python/Python39/lib/site-packages/pandas/core/reshape/concat.py?line=153'>154</a>\u001b[0m     copy: \u001b[39mbool\u001b[39m \u001b[39m=\u001b[39m \u001b[39mTrue\u001b[39;00m,\n\u001b[0;32m    <a href='file:///c%3A/Users/Bryan%20Hui/AppData/Local/Programs/Python/Python39/lib/site-packages/pandas/core/reshape/concat.py?line=154'>155</a>\u001b[0m ) \u001b[39m-\u001b[39m\u001b[39m>\u001b[39m DataFrame \u001b[39m|\u001b[39m Series:\n\u001b[0;32m    <a href='file:///c%3A/Users/Bryan%20Hui/AppData/Local/Programs/Python/Python39/lib/site-packages/pandas/core/reshape/concat.py?line=155'>156</a>\u001b[0m     \u001b[39m\"\"\"\u001b[39;00m\n\u001b[0;32m    <a href='file:///c%3A/Users/Bryan%20Hui/AppData/Local/Programs/Python/Python39/lib/site-packages/pandas/core/reshape/concat.py?line=156'>157</a>\u001b[0m \u001b[39m    Concatenate pandas objects along a particular axis with optional set logic\u001b[39;00m\n\u001b[0;32m    <a href='file:///c%3A/Users/Bryan%20Hui/AppData/Local/Programs/Python/Python39/lib/site-packages/pandas/core/reshape/concat.py?line=157'>158</a>\u001b[0m \u001b[39m    along the other axes.\u001b[39;00m\n\u001b[1;32m   (...)\u001b[0m\n\u001b[0;32m    <a href='file:///c%3A/Users/Bryan%20Hui/AppData/Local/Programs/Python/Python39/lib/site-packages/pandas/core/reshape/concat.py?line=344'>345</a>\u001b[0m \u001b[39m    ValueError: Indexes have overlapping values: ['a']\u001b[39;00m\n\u001b[0;32m    <a href='file:///c%3A/Users/Bryan%20Hui/AppData/Local/Programs/Python/Python39/lib/site-packages/pandas/core/reshape/concat.py?line=345'>346</a>\u001b[0m \u001b[39m    \"\"\"\u001b[39;00m\n\u001b[1;32m--> <a href='file:///c%3A/Users/Bryan%20Hui/AppData/Local/Programs/Python/Python39/lib/site-packages/pandas/core/reshape/concat.py?line=346'>347</a>\u001b[0m     op \u001b[39m=\u001b[39m _Concatenator(\n\u001b[0;32m    <a href='file:///c%3A/Users/Bryan%20Hui/AppData/Local/Programs/Python/Python39/lib/site-packages/pandas/core/reshape/concat.py?line=347'>348</a>\u001b[0m         objs,\n\u001b[0;32m    <a href='file:///c%3A/Users/Bryan%20Hui/AppData/Local/Programs/Python/Python39/lib/site-packages/pandas/core/reshape/concat.py?line=348'>349</a>\u001b[0m         axis\u001b[39m=\u001b[39;49maxis,\n\u001b[0;32m    <a href='file:///c%3A/Users/Bryan%20Hui/AppData/Local/Programs/Python/Python39/lib/site-packages/pandas/core/reshape/concat.py?line=349'>350</a>\u001b[0m         ignore_index\u001b[39m=\u001b[39;49mignore_index,\n\u001b[0;32m    <a href='file:///c%3A/Users/Bryan%20Hui/AppData/Local/Programs/Python/Python39/lib/site-packages/pandas/core/reshape/concat.py?line=350'>351</a>\u001b[0m         join\u001b[39m=\u001b[39;49mjoin,\n\u001b[0;32m    <a href='file:///c%3A/Users/Bryan%20Hui/AppData/Local/Programs/Python/Python39/lib/site-packages/pandas/core/reshape/concat.py?line=351'>352</a>\u001b[0m         keys\u001b[39m=\u001b[39;49mkeys,\n\u001b[0;32m    <a href='file:///c%3A/Users/Bryan%20Hui/AppData/Local/Programs/Python/Python39/lib/site-packages/pandas/core/reshape/concat.py?line=352'>353</a>\u001b[0m         levels\u001b[39m=\u001b[39;49mlevels,\n\u001b[0;32m    <a href='file:///c%3A/Users/Bryan%20Hui/AppData/Local/Programs/Python/Python39/lib/site-packages/pandas/core/reshape/concat.py?line=353'>354</a>\u001b[0m         names\u001b[39m=\u001b[39;49mnames,\n\u001b[0;32m    <a href='file:///c%3A/Users/Bryan%20Hui/AppData/Local/Programs/Python/Python39/lib/site-packages/pandas/core/reshape/concat.py?line=354'>355</a>\u001b[0m         verify_integrity\u001b[39m=\u001b[39;49mverify_integrity,\n\u001b[0;32m    <a href='file:///c%3A/Users/Bryan%20Hui/AppData/Local/Programs/Python/Python39/lib/site-packages/pandas/core/reshape/concat.py?line=355'>356</a>\u001b[0m         copy\u001b[39m=\u001b[39;49mcopy,\n\u001b[0;32m    <a href='file:///c%3A/Users/Bryan%20Hui/AppData/Local/Programs/Python/Python39/lib/site-packages/pandas/core/reshape/concat.py?line=356'>357</a>\u001b[0m         sort\u001b[39m=\u001b[39;49msort,\n\u001b[0;32m    <a href='file:///c%3A/Users/Bryan%20Hui/AppData/Local/Programs/Python/Python39/lib/site-packages/pandas/core/reshape/concat.py?line=357'>358</a>\u001b[0m     )\n\u001b[0;32m    <a href='file:///c%3A/Users/Bryan%20Hui/AppData/Local/Programs/Python/Python39/lib/site-packages/pandas/core/reshape/concat.py?line=359'>360</a>\u001b[0m     \u001b[39mreturn\u001b[39;00m op\u001b[39m.\u001b[39mget_result()\n",
      "File \u001b[1;32mc:\\Users\\Bryan Hui\\AppData\\Local\\Programs\\Python\\Python39\\lib\\site-packages\\pandas\\core\\reshape\\concat.py:475\u001b[0m, in \u001b[0;36m_Concatenator.__init__\u001b[1;34m(self, objs, axis, join, keys, levels, names, ignore_index, verify_integrity, copy, sort)\u001b[0m\n\u001b[0;32m    <a href='file:///c%3A/Users/Bryan%20Hui/AppData/Local/Programs/Python/Python39/lib/site-packages/pandas/core/reshape/concat.py?line=472'>473</a>\u001b[0m     axis \u001b[39m=\u001b[39m DataFrame\u001b[39m.\u001b[39m_get_axis_number(axis)\n\u001b[0;32m    <a href='file:///c%3A/Users/Bryan%20Hui/AppData/Local/Programs/Python/Python39/lib/site-packages/pandas/core/reshape/concat.py?line=473'>474</a>\u001b[0m \u001b[39melse\u001b[39;00m:\n\u001b[1;32m--> <a href='file:///c%3A/Users/Bryan%20Hui/AppData/Local/Programs/Python/Python39/lib/site-packages/pandas/core/reshape/concat.py?line=474'>475</a>\u001b[0m     axis \u001b[39m=\u001b[39m sample\u001b[39m.\u001b[39;49m_get_axis_number(axis)\n\u001b[0;32m    <a href='file:///c%3A/Users/Bryan%20Hui/AppData/Local/Programs/Python/Python39/lib/site-packages/pandas/core/reshape/concat.py?line=476'>477</a>\u001b[0m \u001b[39m# Need to flip BlockManager axis in the DataFrame special case\u001b[39;00m\n\u001b[0;32m    <a href='file:///c%3A/Users/Bryan%20Hui/AppData/Local/Programs/Python/Python39/lib/site-packages/pandas/core/reshape/concat.py?line=477'>478</a>\u001b[0m \u001b[39mself\u001b[39m\u001b[39m.\u001b[39m_is_frame \u001b[39m=\u001b[39m \u001b[39misinstance\u001b[39m(sample, ABCDataFrame)\n",
      "File \u001b[1;32mc:\\Users\\Bryan Hui\\AppData\\Local\\Programs\\Python\\Python39\\lib\\site-packages\\pandas\\core\\generic.py:550\u001b[0m, in \u001b[0;36mNDFrame._get_axis_number\u001b[1;34m(cls, axis)\u001b[0m\n\u001b[0;32m    <a href='file:///c%3A/Users/Bryan%20Hui/AppData/Local/Programs/Python/Python39/lib/site-packages/pandas/core/generic.py?line=545'>546</a>\u001b[0m \u001b[39m@final\u001b[39m\n\u001b[0;32m    <a href='file:///c%3A/Users/Bryan%20Hui/AppData/Local/Programs/Python/Python39/lib/site-packages/pandas/core/generic.py?line=546'>547</a>\u001b[0m \u001b[39m@classmethod\u001b[39m\n\u001b[0;32m    <a href='file:///c%3A/Users/Bryan%20Hui/AppData/Local/Programs/Python/Python39/lib/site-packages/pandas/core/generic.py?line=547'>548</a>\u001b[0m \u001b[39mdef\u001b[39;00m \u001b[39m_get_axis_number\u001b[39m(\u001b[39mcls\u001b[39m, axis: Axis) \u001b[39m-\u001b[39m\u001b[39m>\u001b[39m \u001b[39mint\u001b[39m:\n\u001b[0;32m    <a href='file:///c%3A/Users/Bryan%20Hui/AppData/Local/Programs/Python/Python39/lib/site-packages/pandas/core/generic.py?line=548'>549</a>\u001b[0m     \u001b[39mtry\u001b[39;00m:\n\u001b[1;32m--> <a href='file:///c%3A/Users/Bryan%20Hui/AppData/Local/Programs/Python/Python39/lib/site-packages/pandas/core/generic.py?line=549'>550</a>\u001b[0m         \u001b[39mreturn\u001b[39;00m \u001b[39mcls\u001b[39;49m\u001b[39m.\u001b[39;49m_AXIS_TO_AXIS_NUMBER[axis]\n\u001b[0;32m    <a href='file:///c%3A/Users/Bryan%20Hui/AppData/Local/Programs/Python/Python39/lib/site-packages/pandas/core/generic.py?line=550'>551</a>\u001b[0m     \u001b[39mexcept\u001b[39;00m \u001b[39mKeyError\u001b[39;00m:\n\u001b[0;32m    <a href='file:///c%3A/Users/Bryan%20Hui/AppData/Local/Programs/Python/Python39/lib/site-packages/pandas/core/generic.py?line=551'>552</a>\u001b[0m         \u001b[39mraise\u001b[39;00m \u001b[39mValueError\u001b[39;00m(\u001b[39mf\u001b[39m\u001b[39m\"\u001b[39m\u001b[39mNo axis named \u001b[39m\u001b[39m{\u001b[39;00maxis\u001b[39m}\u001b[39;00m\u001b[39m for object type \u001b[39m\u001b[39m{\u001b[39;00m\u001b[39mcls\u001b[39m\u001b[39m.\u001b[39m\u001b[39m__name__\u001b[39m\u001b[39m}\u001b[39;00m\u001b[39m\"\u001b[39m)\n",
      "\u001b[1;31mTypeError\u001b[0m: unhashable type: 'list'"
     ]
    }
   ],
   "source": [
    "final_dataframe = pd.DataFrame(columns=my_columns)\n",
    "\n",
    "for stock in stocks['Ticker'][:10]:\n",
    "    api_url = f'https://sandbox.iexapis.com/stable/stock/{stock}/quote?token={IEX_CLOUD_API_TOKEN}'\n",
    "    data = requests.get(api_url).json() #slow https request, need to use batch calls to optimize\n",
    "    final_dataframe = pd.concat([final_dataframe,\n",
    "        (pd.Series(\n",
    "            [\n",
    "                stock,\n",
    "                data['latestPrice'],\n",
    "                data['marketCap'],\n",
    "                'N/A'\n",
    "            ],\n",
    "            index = my_columns\n",
    "        ))],\n",
    "    axis=my_columns)\n",
    "final_dataframe "
   ]
  },
  {
   "cell_type": "code",
   "execution_count": null,
   "metadata": {},
   "outputs": [],
   "source": [
    "final_dataframe"
   ]
  },
  {
   "cell_type": "markdown",
   "metadata": {},
   "source": [
    "## Using Batch API Calls to Improve Performance\n",
    "\n",
    "Batch API calls are one of the easiest ways to improve the performance of your code.\n",
    "\n",
    "This is because HTTP requests are typically one of the slowest components of a script.\n",
    "\n",
    "Also, API providers will often give you discounted rates for using batch API calls since they are easier for the API provider to respond to.\n",
    "\n",
    "IEX Cloud limits their batch API calls to 100 tickers per request. Still, this reduces the number of API calls we'll make in this section from 500 to 5 - huge improvement! In this section, we'll split our list of stocks into groups of 100 and then make a batch API call for each group."
   ]
  },
  {
   "cell_type": "code",
   "execution_count": 26,
   "metadata": {},
   "outputs": [],
   "source": [
    "def chunks(lst, n):\n",
    "    \"\"\"Yield successive n-sized chunks from lst.\"\"\"\n",
    "    for i in range(0, len(lst), n):\n",
    "        yield lst[i:i + n]"
   ]
  },
  {
   "cell_type": "code",
   "execution_count": 35,
   "metadata": {},
   "outputs": [
    {
     "name": "stderr",
     "output_type": "stream",
     "text": [
      "C:\\Users\\Bryan Hui\\AppData\\Local\\Temp\\ipykernel_27272\\655396753.py:16: FutureWarning: The frame.append method is deprecated and will be removed from pandas in a future version. Use pandas.concat instead.\n",
      "  final_dataframe = final_dataframe.append(\n",
      "C:\\Users\\Bryan Hui\\AppData\\Local\\Temp\\ipykernel_27272\\655396753.py:16: FutureWarning: The frame.append method is deprecated and will be removed from pandas in a future version. Use pandas.concat instead.\n",
      "  final_dataframe = final_dataframe.append(\n",
      "C:\\Users\\Bryan Hui\\AppData\\Local\\Temp\\ipykernel_27272\\655396753.py:16: FutureWarning: The frame.append method is deprecated and will be removed from pandas in a future version. Use pandas.concat instead.\n",
      "  final_dataframe = final_dataframe.append(\n",
      "C:\\Users\\Bryan Hui\\AppData\\Local\\Temp\\ipykernel_27272\\655396753.py:16: FutureWarning: The frame.append method is deprecated and will be removed from pandas in a future version. Use pandas.concat instead.\n",
      "  final_dataframe = final_dataframe.append(\n",
      "C:\\Users\\Bryan Hui\\AppData\\Local\\Temp\\ipykernel_27272\\655396753.py:16: FutureWarning: The frame.append method is deprecated and will be removed from pandas in a future version. Use pandas.concat instead.\n",
      "  final_dataframe = final_dataframe.append(\n",
      "C:\\Users\\Bryan Hui\\AppData\\Local\\Temp\\ipykernel_27272\\655396753.py:16: FutureWarning: The frame.append method is deprecated and will be removed from pandas in a future version. Use pandas.concat instead.\n",
      "  final_dataframe = final_dataframe.append(\n",
      "C:\\Users\\Bryan Hui\\AppData\\Local\\Temp\\ipykernel_27272\\655396753.py:16: FutureWarning: The frame.append method is deprecated and will be removed from pandas in a future version. Use pandas.concat instead.\n",
      "  final_dataframe = final_dataframe.append(\n",
      "C:\\Users\\Bryan Hui\\AppData\\Local\\Temp\\ipykernel_27272\\655396753.py:16: FutureWarning: The frame.append method is deprecated and will be removed from pandas in a future version. Use pandas.concat instead.\n",
      "  final_dataframe = final_dataframe.append(\n",
      "C:\\Users\\Bryan Hui\\AppData\\Local\\Temp\\ipykernel_27272\\655396753.py:16: FutureWarning: The frame.append method is deprecated and will be removed from pandas in a future version. Use pandas.concat instead.\n",
      "  final_dataframe = final_dataframe.append(\n",
      "C:\\Users\\Bryan Hui\\AppData\\Local\\Temp\\ipykernel_27272\\655396753.py:16: FutureWarning: The frame.append method is deprecated and will be removed from pandas in a future version. Use pandas.concat instead.\n",
      "  final_dataframe = final_dataframe.append(\n",
      "C:\\Users\\Bryan Hui\\AppData\\Local\\Temp\\ipykernel_27272\\655396753.py:16: FutureWarning: The frame.append method is deprecated and will be removed from pandas in a future version. Use pandas.concat instead.\n",
      "  final_dataframe = final_dataframe.append(\n",
      "C:\\Users\\Bryan Hui\\AppData\\Local\\Temp\\ipykernel_27272\\655396753.py:16: FutureWarning: The frame.append method is deprecated and will be removed from pandas in a future version. Use pandas.concat instead.\n",
      "  final_dataframe = final_dataframe.append(\n",
      "C:\\Users\\Bryan Hui\\AppData\\Local\\Temp\\ipykernel_27272\\655396753.py:16: FutureWarning: The frame.append method is deprecated and will be removed from pandas in a future version. Use pandas.concat instead.\n",
      "  final_dataframe = final_dataframe.append(\n",
      "C:\\Users\\Bryan Hui\\AppData\\Local\\Temp\\ipykernel_27272\\655396753.py:16: FutureWarning: The frame.append method is deprecated and will be removed from pandas in a future version. Use pandas.concat instead.\n",
      "  final_dataframe = final_dataframe.append(\n",
      "C:\\Users\\Bryan Hui\\AppData\\Local\\Temp\\ipykernel_27272\\655396753.py:16: FutureWarning: The frame.append method is deprecated and will be removed from pandas in a future version. Use pandas.concat instead.\n",
      "  final_dataframe = final_dataframe.append(\n",
      "C:\\Users\\Bryan Hui\\AppData\\Local\\Temp\\ipykernel_27272\\655396753.py:16: FutureWarning: The frame.append method is deprecated and will be removed from pandas in a future version. Use pandas.concat instead.\n",
      "  final_dataframe = final_dataframe.append(\n",
      "C:\\Users\\Bryan Hui\\AppData\\Local\\Temp\\ipykernel_27272\\655396753.py:16: FutureWarning: The frame.append method is deprecated and will be removed from pandas in a future version. Use pandas.concat instead.\n",
      "  final_dataframe = final_dataframe.append(\n",
      "C:\\Users\\Bryan Hui\\AppData\\Local\\Temp\\ipykernel_27272\\655396753.py:16: FutureWarning: The frame.append method is deprecated and will be removed from pandas in a future version. Use pandas.concat instead.\n",
      "  final_dataframe = final_dataframe.append(\n",
      "C:\\Users\\Bryan Hui\\AppData\\Local\\Temp\\ipykernel_27272\\655396753.py:16: FutureWarning: The frame.append method is deprecated and will be removed from pandas in a future version. Use pandas.concat instead.\n",
      "  final_dataframe = final_dataframe.append(\n",
      "C:\\Users\\Bryan Hui\\AppData\\Local\\Temp\\ipykernel_27272\\655396753.py:16: FutureWarning: The frame.append method is deprecated and will be removed from pandas in a future version. Use pandas.concat instead.\n",
      "  final_dataframe = final_dataframe.append(\n",
      "C:\\Users\\Bryan Hui\\AppData\\Local\\Temp\\ipykernel_27272\\655396753.py:16: FutureWarning: The frame.append method is deprecated and will be removed from pandas in a future version. Use pandas.concat instead.\n",
      "  final_dataframe = final_dataframe.append(\n",
      "C:\\Users\\Bryan Hui\\AppData\\Local\\Temp\\ipykernel_27272\\655396753.py:16: FutureWarning: The frame.append method is deprecated and will be removed from pandas in a future version. Use pandas.concat instead.\n",
      "  final_dataframe = final_dataframe.append(\n",
      "C:\\Users\\Bryan Hui\\AppData\\Local\\Temp\\ipykernel_27272\\655396753.py:16: FutureWarning: The frame.append method is deprecated and will be removed from pandas in a future version. Use pandas.concat instead.\n",
      "  final_dataframe = final_dataframe.append(\n",
      "C:\\Users\\Bryan Hui\\AppData\\Local\\Temp\\ipykernel_27272\\655396753.py:16: FutureWarning: The frame.append method is deprecated and will be removed from pandas in a future version. Use pandas.concat instead.\n",
      "  final_dataframe = final_dataframe.append(\n",
      "C:\\Users\\Bryan Hui\\AppData\\Local\\Temp\\ipykernel_27272\\655396753.py:16: FutureWarning: The frame.append method is deprecated and will be removed from pandas in a future version. Use pandas.concat instead.\n",
      "  final_dataframe = final_dataframe.append(\n",
      "C:\\Users\\Bryan Hui\\AppData\\Local\\Temp\\ipykernel_27272\\655396753.py:16: FutureWarning: The frame.append method is deprecated and will be removed from pandas in a future version. Use pandas.concat instead.\n",
      "  final_dataframe = final_dataframe.append(\n",
      "C:\\Users\\Bryan Hui\\AppData\\Local\\Temp\\ipykernel_27272\\655396753.py:16: FutureWarning: The frame.append method is deprecated and will be removed from pandas in a future version. Use pandas.concat instead.\n",
      "  final_dataframe = final_dataframe.append(\n",
      "C:\\Users\\Bryan Hui\\AppData\\Local\\Temp\\ipykernel_27272\\655396753.py:16: FutureWarning: The frame.append method is deprecated and will be removed from pandas in a future version. Use pandas.concat instead.\n",
      "  final_dataframe = final_dataframe.append(\n",
      "C:\\Users\\Bryan Hui\\AppData\\Local\\Temp\\ipykernel_27272\\655396753.py:16: FutureWarning: The frame.append method is deprecated and will be removed from pandas in a future version. Use pandas.concat instead.\n",
      "  final_dataframe = final_dataframe.append(\n",
      "C:\\Users\\Bryan Hui\\AppData\\Local\\Temp\\ipykernel_27272\\655396753.py:16: FutureWarning: The frame.append method is deprecated and will be removed from pandas in a future version. Use pandas.concat instead.\n",
      "  final_dataframe = final_dataframe.append(\n",
      "C:\\Users\\Bryan Hui\\AppData\\Local\\Temp\\ipykernel_27272\\655396753.py:16: FutureWarning: The frame.append method is deprecated and will be removed from pandas in a future version. Use pandas.concat instead.\n",
      "  final_dataframe = final_dataframe.append(\n",
      "C:\\Users\\Bryan Hui\\AppData\\Local\\Temp\\ipykernel_27272\\655396753.py:16: FutureWarning: The frame.append method is deprecated and will be removed from pandas in a future version. Use pandas.concat instead.\n",
      "  final_dataframe = final_dataframe.append(\n",
      "C:\\Users\\Bryan Hui\\AppData\\Local\\Temp\\ipykernel_27272\\655396753.py:16: FutureWarning: The frame.append method is deprecated and will be removed from pandas in a future version. Use pandas.concat instead.\n",
      "  final_dataframe = final_dataframe.append(\n",
      "C:\\Users\\Bryan Hui\\AppData\\Local\\Temp\\ipykernel_27272\\655396753.py:16: FutureWarning: The frame.append method is deprecated and will be removed from pandas in a future version. Use pandas.concat instead.\n",
      "  final_dataframe = final_dataframe.append(\n",
      "C:\\Users\\Bryan Hui\\AppData\\Local\\Temp\\ipykernel_27272\\655396753.py:16: FutureWarning: The frame.append method is deprecated and will be removed from pandas in a future version. Use pandas.concat instead.\n",
      "  final_dataframe = final_dataframe.append(\n",
      "C:\\Users\\Bryan Hui\\AppData\\Local\\Temp\\ipykernel_27272\\655396753.py:16: FutureWarning: The frame.append method is deprecated and will be removed from pandas in a future version. Use pandas.concat instead.\n",
      "  final_dataframe = final_dataframe.append(\n",
      "C:\\Users\\Bryan Hui\\AppData\\Local\\Temp\\ipykernel_27272\\655396753.py:16: FutureWarning: The frame.append method is deprecated and will be removed from pandas in a future version. Use pandas.concat instead.\n",
      "  final_dataframe = final_dataframe.append(\n",
      "C:\\Users\\Bryan Hui\\AppData\\Local\\Temp\\ipykernel_27272\\655396753.py:16: FutureWarning: The frame.append method is deprecated and will be removed from pandas in a future version. Use pandas.concat instead.\n",
      "  final_dataframe = final_dataframe.append(\n",
      "C:\\Users\\Bryan Hui\\AppData\\Local\\Temp\\ipykernel_27272\\655396753.py:16: FutureWarning: The frame.append method is deprecated and will be removed from pandas in a future version. Use pandas.concat instead.\n",
      "  final_dataframe = final_dataframe.append(\n",
      "C:\\Users\\Bryan Hui\\AppData\\Local\\Temp\\ipykernel_27272\\655396753.py:16: FutureWarning: The frame.append method is deprecated and will be removed from pandas in a future version. Use pandas.concat instead.\n",
      "  final_dataframe = final_dataframe.append(\n",
      "C:\\Users\\Bryan Hui\\AppData\\Local\\Temp\\ipykernel_27272\\655396753.py:16: FutureWarning: The frame.append method is deprecated and will be removed from pandas in a future version. Use pandas.concat instead.\n",
      "  final_dataframe = final_dataframe.append(\n",
      "C:\\Users\\Bryan Hui\\AppData\\Local\\Temp\\ipykernel_27272\\655396753.py:16: FutureWarning: The frame.append method is deprecated and will be removed from pandas in a future version. Use pandas.concat instead.\n",
      "  final_dataframe = final_dataframe.append(\n",
      "C:\\Users\\Bryan Hui\\AppData\\Local\\Temp\\ipykernel_27272\\655396753.py:16: FutureWarning: The frame.append method is deprecated and will be removed from pandas in a future version. Use pandas.concat instead.\n",
      "  final_dataframe = final_dataframe.append(\n",
      "C:\\Users\\Bryan Hui\\AppData\\Local\\Temp\\ipykernel_27272\\655396753.py:16: FutureWarning: The frame.append method is deprecated and will be removed from pandas in a future version. Use pandas.concat instead.\n",
      "  final_dataframe = final_dataframe.append(\n",
      "C:\\Users\\Bryan Hui\\AppData\\Local\\Temp\\ipykernel_27272\\655396753.py:16: FutureWarning: The frame.append method is deprecated and will be removed from pandas in a future version. Use pandas.concat instead.\n",
      "  final_dataframe = final_dataframe.append(\n",
      "C:\\Users\\Bryan Hui\\AppData\\Local\\Temp\\ipykernel_27272\\655396753.py:16: FutureWarning: The frame.append method is deprecated and will be removed from pandas in a future version. Use pandas.concat instead.\n",
      "  final_dataframe = final_dataframe.append(\n",
      "C:\\Users\\Bryan Hui\\AppData\\Local\\Temp\\ipykernel_27272\\655396753.py:16: FutureWarning: The frame.append method is deprecated and will be removed from pandas in a future version. Use pandas.concat instead.\n",
      "  final_dataframe = final_dataframe.append(\n",
      "C:\\Users\\Bryan Hui\\AppData\\Local\\Temp\\ipykernel_27272\\655396753.py:16: FutureWarning: The frame.append method is deprecated and will be removed from pandas in a future version. Use pandas.concat instead.\n",
      "  final_dataframe = final_dataframe.append(\n",
      "C:\\Users\\Bryan Hui\\AppData\\Local\\Temp\\ipykernel_27272\\655396753.py:16: FutureWarning: The frame.append method is deprecated and will be removed from pandas in a future version. Use pandas.concat instead.\n",
      "  final_dataframe = final_dataframe.append(\n",
      "C:\\Users\\Bryan Hui\\AppData\\Local\\Temp\\ipykernel_27272\\655396753.py:16: FutureWarning: The frame.append method is deprecated and will be removed from pandas in a future version. Use pandas.concat instead.\n",
      "  final_dataframe = final_dataframe.append(\n",
      "C:\\Users\\Bryan Hui\\AppData\\Local\\Temp\\ipykernel_27272\\655396753.py:16: FutureWarning: The frame.append method is deprecated and will be removed from pandas in a future version. Use pandas.concat instead.\n",
      "  final_dataframe = final_dataframe.append(\n",
      "C:\\Users\\Bryan Hui\\AppData\\Local\\Temp\\ipykernel_27272\\655396753.py:16: FutureWarning: The frame.append method is deprecated and will be removed from pandas in a future version. Use pandas.concat instead.\n",
      "  final_dataframe = final_dataframe.append(\n",
      "C:\\Users\\Bryan Hui\\AppData\\Local\\Temp\\ipykernel_27272\\655396753.py:16: FutureWarning: The frame.append method is deprecated and will be removed from pandas in a future version. Use pandas.concat instead.\n",
      "  final_dataframe = final_dataframe.append(\n",
      "C:\\Users\\Bryan Hui\\AppData\\Local\\Temp\\ipykernel_27272\\655396753.py:16: FutureWarning: The frame.append method is deprecated and will be removed from pandas in a future version. Use pandas.concat instead.\n",
      "  final_dataframe = final_dataframe.append(\n",
      "C:\\Users\\Bryan Hui\\AppData\\Local\\Temp\\ipykernel_27272\\655396753.py:16: FutureWarning: The frame.append method is deprecated and will be removed from pandas in a future version. Use pandas.concat instead.\n",
      "  final_dataframe = final_dataframe.append(\n",
      "C:\\Users\\Bryan Hui\\AppData\\Local\\Temp\\ipykernel_27272\\655396753.py:16: FutureWarning: The frame.append method is deprecated and will be removed from pandas in a future version. Use pandas.concat instead.\n",
      "  final_dataframe = final_dataframe.append(\n",
      "C:\\Users\\Bryan Hui\\AppData\\Local\\Temp\\ipykernel_27272\\655396753.py:16: FutureWarning: The frame.append method is deprecated and will be removed from pandas in a future version. Use pandas.concat instead.\n",
      "  final_dataframe = final_dataframe.append(\n",
      "C:\\Users\\Bryan Hui\\AppData\\Local\\Temp\\ipykernel_27272\\655396753.py:16: FutureWarning: The frame.append method is deprecated and will be removed from pandas in a future version. Use pandas.concat instead.\n",
      "  final_dataframe = final_dataframe.append(\n",
      "C:\\Users\\Bryan Hui\\AppData\\Local\\Temp\\ipykernel_27272\\655396753.py:16: FutureWarning: The frame.append method is deprecated and will be removed from pandas in a future version. Use pandas.concat instead.\n",
      "  final_dataframe = final_dataframe.append(\n",
      "C:\\Users\\Bryan Hui\\AppData\\Local\\Temp\\ipykernel_27272\\655396753.py:16: FutureWarning: The frame.append method is deprecated and will be removed from pandas in a future version. Use pandas.concat instead.\n",
      "  final_dataframe = final_dataframe.append(\n",
      "C:\\Users\\Bryan Hui\\AppData\\Local\\Temp\\ipykernel_27272\\655396753.py:16: FutureWarning: The frame.append method is deprecated and will be removed from pandas in a future version. Use pandas.concat instead.\n",
      "  final_dataframe = final_dataframe.append(\n",
      "C:\\Users\\Bryan Hui\\AppData\\Local\\Temp\\ipykernel_27272\\655396753.py:16: FutureWarning: The frame.append method is deprecated and will be removed from pandas in a future version. Use pandas.concat instead.\n",
      "  final_dataframe = final_dataframe.append(\n",
      "C:\\Users\\Bryan Hui\\AppData\\Local\\Temp\\ipykernel_27272\\655396753.py:16: FutureWarning: The frame.append method is deprecated and will be removed from pandas in a future version. Use pandas.concat instead.\n",
      "  final_dataframe = final_dataframe.append(\n",
      "C:\\Users\\Bryan Hui\\AppData\\Local\\Temp\\ipykernel_27272\\655396753.py:16: FutureWarning: The frame.append method is deprecated and will be removed from pandas in a future version. Use pandas.concat instead.\n",
      "  final_dataframe = final_dataframe.append(\n",
      "C:\\Users\\Bryan Hui\\AppData\\Local\\Temp\\ipykernel_27272\\655396753.py:16: FutureWarning: The frame.append method is deprecated and will be removed from pandas in a future version. Use pandas.concat instead.\n",
      "  final_dataframe = final_dataframe.append(\n",
      "C:\\Users\\Bryan Hui\\AppData\\Local\\Temp\\ipykernel_27272\\655396753.py:16: FutureWarning: The frame.append method is deprecated and will be removed from pandas in a future version. Use pandas.concat instead.\n",
      "  final_dataframe = final_dataframe.append(\n",
      "C:\\Users\\Bryan Hui\\AppData\\Local\\Temp\\ipykernel_27272\\655396753.py:16: FutureWarning: The frame.append method is deprecated and will be removed from pandas in a future version. Use pandas.concat instead.\n",
      "  final_dataframe = final_dataframe.append(\n",
      "C:\\Users\\Bryan Hui\\AppData\\Local\\Temp\\ipykernel_27272\\655396753.py:16: FutureWarning: The frame.append method is deprecated and will be removed from pandas in a future version. Use pandas.concat instead.\n",
      "  final_dataframe = final_dataframe.append(\n",
      "C:\\Users\\Bryan Hui\\AppData\\Local\\Temp\\ipykernel_27272\\655396753.py:16: FutureWarning: The frame.append method is deprecated and will be removed from pandas in a future version. Use pandas.concat instead.\n",
      "  final_dataframe = final_dataframe.append(\n",
      "C:\\Users\\Bryan Hui\\AppData\\Local\\Temp\\ipykernel_27272\\655396753.py:16: FutureWarning: The frame.append method is deprecated and will be removed from pandas in a future version. Use pandas.concat instead.\n",
      "  final_dataframe = final_dataframe.append(\n",
      "C:\\Users\\Bryan Hui\\AppData\\Local\\Temp\\ipykernel_27272\\655396753.py:16: FutureWarning: The frame.append method is deprecated and will be removed from pandas in a future version. Use pandas.concat instead.\n",
      "  final_dataframe = final_dataframe.append(\n",
      "C:\\Users\\Bryan Hui\\AppData\\Local\\Temp\\ipykernel_27272\\655396753.py:16: FutureWarning: The frame.append method is deprecated and will be removed from pandas in a future version. Use pandas.concat instead.\n",
      "  final_dataframe = final_dataframe.append(\n",
      "C:\\Users\\Bryan Hui\\AppData\\Local\\Temp\\ipykernel_27272\\655396753.py:16: FutureWarning: The frame.append method is deprecated and will be removed from pandas in a future version. Use pandas.concat instead.\n",
      "  final_dataframe = final_dataframe.append(\n",
      "C:\\Users\\Bryan Hui\\AppData\\Local\\Temp\\ipykernel_27272\\655396753.py:16: FutureWarning: The frame.append method is deprecated and will be removed from pandas in a future version. Use pandas.concat instead.\n",
      "  final_dataframe = final_dataframe.append(\n",
      "C:\\Users\\Bryan Hui\\AppData\\Local\\Temp\\ipykernel_27272\\655396753.py:16: FutureWarning: The frame.append method is deprecated and will be removed from pandas in a future version. Use pandas.concat instead.\n",
      "  final_dataframe = final_dataframe.append(\n",
      "C:\\Users\\Bryan Hui\\AppData\\Local\\Temp\\ipykernel_27272\\655396753.py:16: FutureWarning: The frame.append method is deprecated and will be removed from pandas in a future version. Use pandas.concat instead.\n",
      "  final_dataframe = final_dataframe.append(\n",
      "C:\\Users\\Bryan Hui\\AppData\\Local\\Temp\\ipykernel_27272\\655396753.py:16: FutureWarning: The frame.append method is deprecated and will be removed from pandas in a future version. Use pandas.concat instead.\n",
      "  final_dataframe = final_dataframe.append(\n",
      "C:\\Users\\Bryan Hui\\AppData\\Local\\Temp\\ipykernel_27272\\655396753.py:16: FutureWarning: The frame.append method is deprecated and will be removed from pandas in a future version. Use pandas.concat instead.\n",
      "  final_dataframe = final_dataframe.append(\n",
      "C:\\Users\\Bryan Hui\\AppData\\Local\\Temp\\ipykernel_27272\\655396753.py:16: FutureWarning: The frame.append method is deprecated and will be removed from pandas in a future version. Use pandas.concat instead.\n",
      "  final_dataframe = final_dataframe.append(\n",
      "C:\\Users\\Bryan Hui\\AppData\\Local\\Temp\\ipykernel_27272\\655396753.py:16: FutureWarning: The frame.append method is deprecated and will be removed from pandas in a future version. Use pandas.concat instead.\n",
      "  final_dataframe = final_dataframe.append(\n",
      "C:\\Users\\Bryan Hui\\AppData\\Local\\Temp\\ipykernel_27272\\655396753.py:16: FutureWarning: The frame.append method is deprecated and will be removed from pandas in a future version. Use pandas.concat instead.\n",
      "  final_dataframe = final_dataframe.append(\n",
      "C:\\Users\\Bryan Hui\\AppData\\Local\\Temp\\ipykernel_27272\\655396753.py:16: FutureWarning: The frame.append method is deprecated and will be removed from pandas in a future version. Use pandas.concat instead.\n",
      "  final_dataframe = final_dataframe.append(\n",
      "C:\\Users\\Bryan Hui\\AppData\\Local\\Temp\\ipykernel_27272\\655396753.py:16: FutureWarning: The frame.append method is deprecated and will be removed from pandas in a future version. Use pandas.concat instead.\n",
      "  final_dataframe = final_dataframe.append(\n",
      "C:\\Users\\Bryan Hui\\AppData\\Local\\Temp\\ipykernel_27272\\655396753.py:16: FutureWarning: The frame.append method is deprecated and will be removed from pandas in a future version. Use pandas.concat instead.\n",
      "  final_dataframe = final_dataframe.append(\n",
      "C:\\Users\\Bryan Hui\\AppData\\Local\\Temp\\ipykernel_27272\\655396753.py:16: FutureWarning: The frame.append method is deprecated and will be removed from pandas in a future version. Use pandas.concat instead.\n",
      "  final_dataframe = final_dataframe.append(\n",
      "C:\\Users\\Bryan Hui\\AppData\\Local\\Temp\\ipykernel_27272\\655396753.py:16: FutureWarning: The frame.append method is deprecated and will be removed from pandas in a future version. Use pandas.concat instead.\n",
      "  final_dataframe = final_dataframe.append(\n",
      "C:\\Users\\Bryan Hui\\AppData\\Local\\Temp\\ipykernel_27272\\655396753.py:16: FutureWarning: The frame.append method is deprecated and will be removed from pandas in a future version. Use pandas.concat instead.\n",
      "  final_dataframe = final_dataframe.append(\n",
      "C:\\Users\\Bryan Hui\\AppData\\Local\\Temp\\ipykernel_27272\\655396753.py:16: FutureWarning: The frame.append method is deprecated and will be removed from pandas in a future version. Use pandas.concat instead.\n",
      "  final_dataframe = final_dataframe.append(\n",
      "C:\\Users\\Bryan Hui\\AppData\\Local\\Temp\\ipykernel_27272\\655396753.py:16: FutureWarning: The frame.append method is deprecated and will be removed from pandas in a future version. Use pandas.concat instead.\n",
      "  final_dataframe = final_dataframe.append(\n",
      "C:\\Users\\Bryan Hui\\AppData\\Local\\Temp\\ipykernel_27272\\655396753.py:16: FutureWarning: The frame.append method is deprecated and will be removed from pandas in a future version. Use pandas.concat instead.\n",
      "  final_dataframe = final_dataframe.append(\n",
      "C:\\Users\\Bryan Hui\\AppData\\Local\\Temp\\ipykernel_27272\\655396753.py:16: FutureWarning: The frame.append method is deprecated and will be removed from pandas in a future version. Use pandas.concat instead.\n",
      "  final_dataframe = final_dataframe.append(\n",
      "C:\\Users\\Bryan Hui\\AppData\\Local\\Temp\\ipykernel_27272\\655396753.py:16: FutureWarning: The frame.append method is deprecated and will be removed from pandas in a future version. Use pandas.concat instead.\n",
      "  final_dataframe = final_dataframe.append(\n",
      "C:\\Users\\Bryan Hui\\AppData\\Local\\Temp\\ipykernel_27272\\655396753.py:16: FutureWarning: The frame.append method is deprecated and will be removed from pandas in a future version. Use pandas.concat instead.\n",
      "  final_dataframe = final_dataframe.append(\n",
      "C:\\Users\\Bryan Hui\\AppData\\Local\\Temp\\ipykernel_27272\\655396753.py:16: FutureWarning: The frame.append method is deprecated and will be removed from pandas in a future version. Use pandas.concat instead.\n",
      "  final_dataframe = final_dataframe.append(\n",
      "C:\\Users\\Bryan Hui\\AppData\\Local\\Temp\\ipykernel_27272\\655396753.py:16: FutureWarning: The frame.append method is deprecated and will be removed from pandas in a future version. Use pandas.concat instead.\n",
      "  final_dataframe = final_dataframe.append(\n",
      "C:\\Users\\Bryan Hui\\AppData\\Local\\Temp\\ipykernel_27272\\655396753.py:16: FutureWarning: The frame.append method is deprecated and will be removed from pandas in a future version. Use pandas.concat instead.\n",
      "  final_dataframe = final_dataframe.append(\n",
      "C:\\Users\\Bryan Hui\\AppData\\Local\\Temp\\ipykernel_27272\\655396753.py:16: FutureWarning: The frame.append method is deprecated and will be removed from pandas in a future version. Use pandas.concat instead.\n",
      "  final_dataframe = final_dataframe.append(\n",
      "C:\\Users\\Bryan Hui\\AppData\\Local\\Temp\\ipykernel_27272\\655396753.py:16: FutureWarning: The frame.append method is deprecated and will be removed from pandas in a future version. Use pandas.concat instead.\n",
      "  final_dataframe = final_dataframe.append(\n",
      "C:\\Users\\Bryan Hui\\AppData\\Local\\Temp\\ipykernel_27272\\655396753.py:16: FutureWarning: The frame.append method is deprecated and will be removed from pandas in a future version. Use pandas.concat instead.\n",
      "  final_dataframe = final_dataframe.append(\n",
      "C:\\Users\\Bryan Hui\\AppData\\Local\\Temp\\ipykernel_27272\\655396753.py:16: FutureWarning: The frame.append method is deprecated and will be removed from pandas in a future version. Use pandas.concat instead.\n",
      "  final_dataframe = final_dataframe.append(\n",
      "C:\\Users\\Bryan Hui\\AppData\\Local\\Temp\\ipykernel_27272\\655396753.py:16: FutureWarning: The frame.append method is deprecated and will be removed from pandas in a future version. Use pandas.concat instead.\n",
      "  final_dataframe = final_dataframe.append(\n",
      "C:\\Users\\Bryan Hui\\AppData\\Local\\Temp\\ipykernel_27272\\655396753.py:16: FutureWarning: The frame.append method is deprecated and will be removed from pandas in a future version. Use pandas.concat instead.\n",
      "  final_dataframe = final_dataframe.append(\n",
      "C:\\Users\\Bryan Hui\\AppData\\Local\\Temp\\ipykernel_27272\\655396753.py:16: FutureWarning: The frame.append method is deprecated and will be removed from pandas in a future version. Use pandas.concat instead.\n",
      "  final_dataframe = final_dataframe.append(\n",
      "C:\\Users\\Bryan Hui\\AppData\\Local\\Temp\\ipykernel_27272\\655396753.py:16: FutureWarning: The frame.append method is deprecated and will be removed from pandas in a future version. Use pandas.concat instead.\n",
      "  final_dataframe = final_dataframe.append(\n",
      "C:\\Users\\Bryan Hui\\AppData\\Local\\Temp\\ipykernel_27272\\655396753.py:16: FutureWarning: The frame.append method is deprecated and will be removed from pandas in a future version. Use pandas.concat instead.\n",
      "  final_dataframe = final_dataframe.append(\n",
      "C:\\Users\\Bryan Hui\\AppData\\Local\\Temp\\ipykernel_27272\\655396753.py:16: FutureWarning: The frame.append method is deprecated and will be removed from pandas in a future version. Use pandas.concat instead.\n",
      "  final_dataframe = final_dataframe.append(\n",
      "C:\\Users\\Bryan Hui\\AppData\\Local\\Temp\\ipykernel_27272\\655396753.py:16: FutureWarning: The frame.append method is deprecated and will be removed from pandas in a future version. Use pandas.concat instead.\n",
      "  final_dataframe = final_dataframe.append(\n",
      "C:\\Users\\Bryan Hui\\AppData\\Local\\Temp\\ipykernel_27272\\655396753.py:16: FutureWarning: The frame.append method is deprecated and will be removed from pandas in a future version. Use pandas.concat instead.\n",
      "  final_dataframe = final_dataframe.append(\n",
      "C:\\Users\\Bryan Hui\\AppData\\Local\\Temp\\ipykernel_27272\\655396753.py:16: FutureWarning: The frame.append method is deprecated and will be removed from pandas in a future version. Use pandas.concat instead.\n",
      "  final_dataframe = final_dataframe.append(\n",
      "C:\\Users\\Bryan Hui\\AppData\\Local\\Temp\\ipykernel_27272\\655396753.py:16: FutureWarning: The frame.append method is deprecated and will be removed from pandas in a future version. Use pandas.concat instead.\n",
      "  final_dataframe = final_dataframe.append(\n",
      "C:\\Users\\Bryan Hui\\AppData\\Local\\Temp\\ipykernel_27272\\655396753.py:16: FutureWarning: The frame.append method is deprecated and will be removed from pandas in a future version. Use pandas.concat instead.\n",
      "  final_dataframe = final_dataframe.append(\n",
      "C:\\Users\\Bryan Hui\\AppData\\Local\\Temp\\ipykernel_27272\\655396753.py:16: FutureWarning: The frame.append method is deprecated and will be removed from pandas in a future version. Use pandas.concat instead.\n",
      "  final_dataframe = final_dataframe.append(\n",
      "C:\\Users\\Bryan Hui\\AppData\\Local\\Temp\\ipykernel_27272\\655396753.py:16: FutureWarning: The frame.append method is deprecated and will be removed from pandas in a future version. Use pandas.concat instead.\n",
      "  final_dataframe = final_dataframe.append(\n",
      "C:\\Users\\Bryan Hui\\AppData\\Local\\Temp\\ipykernel_27272\\655396753.py:16: FutureWarning: The frame.append method is deprecated and will be removed from pandas in a future version. Use pandas.concat instead.\n",
      "  final_dataframe = final_dataframe.append(\n",
      "C:\\Users\\Bryan Hui\\AppData\\Local\\Temp\\ipykernel_27272\\655396753.py:16: FutureWarning: The frame.append method is deprecated and will be removed from pandas in a future version. Use pandas.concat instead.\n",
      "  final_dataframe = final_dataframe.append(\n",
      "C:\\Users\\Bryan Hui\\AppData\\Local\\Temp\\ipykernel_27272\\655396753.py:16: FutureWarning: The frame.append method is deprecated and will be removed from pandas in a future version. Use pandas.concat instead.\n",
      "  final_dataframe = final_dataframe.append(\n",
      "C:\\Users\\Bryan Hui\\AppData\\Local\\Temp\\ipykernel_27272\\655396753.py:16: FutureWarning: The frame.append method is deprecated and will be removed from pandas in a future version. Use pandas.concat instead.\n",
      "  final_dataframe = final_dataframe.append(\n",
      "C:\\Users\\Bryan Hui\\AppData\\Local\\Temp\\ipykernel_27272\\655396753.py:16: FutureWarning: The frame.append method is deprecated and will be removed from pandas in a future version. Use pandas.concat instead.\n",
      "  final_dataframe = final_dataframe.append(\n",
      "C:\\Users\\Bryan Hui\\AppData\\Local\\Temp\\ipykernel_27272\\655396753.py:16: FutureWarning: The frame.append method is deprecated and will be removed from pandas in a future version. Use pandas.concat instead.\n",
      "  final_dataframe = final_dataframe.append(\n",
      "C:\\Users\\Bryan Hui\\AppData\\Local\\Temp\\ipykernel_27272\\655396753.py:16: FutureWarning: The frame.append method is deprecated and will be removed from pandas in a future version. Use pandas.concat instead.\n",
      "  final_dataframe = final_dataframe.append(\n",
      "C:\\Users\\Bryan Hui\\AppData\\Local\\Temp\\ipykernel_27272\\655396753.py:16: FutureWarning: The frame.append method is deprecated and will be removed from pandas in a future version. Use pandas.concat instead.\n",
      "  final_dataframe = final_dataframe.append(\n",
      "C:\\Users\\Bryan Hui\\AppData\\Local\\Temp\\ipykernel_27272\\655396753.py:16: FutureWarning: The frame.append method is deprecated and will be removed from pandas in a future version. Use pandas.concat instead.\n",
      "  final_dataframe = final_dataframe.append(\n",
      "C:\\Users\\Bryan Hui\\AppData\\Local\\Temp\\ipykernel_27272\\655396753.py:16: FutureWarning: The frame.append method is deprecated and will be removed from pandas in a future version. Use pandas.concat instead.\n",
      "  final_dataframe = final_dataframe.append(\n",
      "C:\\Users\\Bryan Hui\\AppData\\Local\\Temp\\ipykernel_27272\\655396753.py:16: FutureWarning: The frame.append method is deprecated and will be removed from pandas in a future version. Use pandas.concat instead.\n",
      "  final_dataframe = final_dataframe.append(\n",
      "C:\\Users\\Bryan Hui\\AppData\\Local\\Temp\\ipykernel_27272\\655396753.py:16: FutureWarning: The frame.append method is deprecated and will be removed from pandas in a future version. Use pandas.concat instead.\n",
      "  final_dataframe = final_dataframe.append(\n",
      "C:\\Users\\Bryan Hui\\AppData\\Local\\Temp\\ipykernel_27272\\655396753.py:16: FutureWarning: The frame.append method is deprecated and will be removed from pandas in a future version. Use pandas.concat instead.\n",
      "  final_dataframe = final_dataframe.append(\n",
      "C:\\Users\\Bryan Hui\\AppData\\Local\\Temp\\ipykernel_27272\\655396753.py:16: FutureWarning: The frame.append method is deprecated and will be removed from pandas in a future version. Use pandas.concat instead.\n",
      "  final_dataframe = final_dataframe.append(\n",
      "C:\\Users\\Bryan Hui\\AppData\\Local\\Temp\\ipykernel_27272\\655396753.py:16: FutureWarning: The frame.append method is deprecated and will be removed from pandas in a future version. Use pandas.concat instead.\n",
      "  final_dataframe = final_dataframe.append(\n",
      "C:\\Users\\Bryan Hui\\AppData\\Local\\Temp\\ipykernel_27272\\655396753.py:16: FutureWarning: The frame.append method is deprecated and will be removed from pandas in a future version. Use pandas.concat instead.\n",
      "  final_dataframe = final_dataframe.append(\n",
      "C:\\Users\\Bryan Hui\\AppData\\Local\\Temp\\ipykernel_27272\\655396753.py:16: FutureWarning: The frame.append method is deprecated and will be removed from pandas in a future version. Use pandas.concat instead.\n",
      "  final_dataframe = final_dataframe.append(\n",
      "C:\\Users\\Bryan Hui\\AppData\\Local\\Temp\\ipykernel_27272\\655396753.py:16: FutureWarning: The frame.append method is deprecated and will be removed from pandas in a future version. Use pandas.concat instead.\n",
      "  final_dataframe = final_dataframe.append(\n",
      "C:\\Users\\Bryan Hui\\AppData\\Local\\Temp\\ipykernel_27272\\655396753.py:16: FutureWarning: The frame.append method is deprecated and will be removed from pandas in a future version. Use pandas.concat instead.\n",
      "  final_dataframe = final_dataframe.append(\n",
      "C:\\Users\\Bryan Hui\\AppData\\Local\\Temp\\ipykernel_27272\\655396753.py:16: FutureWarning: The frame.append method is deprecated and will be removed from pandas in a future version. Use pandas.concat instead.\n",
      "  final_dataframe = final_dataframe.append(\n",
      "C:\\Users\\Bryan Hui\\AppData\\Local\\Temp\\ipykernel_27272\\655396753.py:16: FutureWarning: The frame.append method is deprecated and will be removed from pandas in a future version. Use pandas.concat instead.\n",
      "  final_dataframe = final_dataframe.append(\n",
      "C:\\Users\\Bryan Hui\\AppData\\Local\\Temp\\ipykernel_27272\\655396753.py:16: FutureWarning: The frame.append method is deprecated and will be removed from pandas in a future version. Use pandas.concat instead.\n",
      "  final_dataframe = final_dataframe.append(\n"
     ]
    },
    {
     "ename": "KeyError",
     "evalue": "'DISCA'",
     "output_type": "error",
     "traceback": [
      "\u001b[1;31m---------------------------------------------------------------------------\u001b[0m",
      "\u001b[1;31mKeyError\u001b[0m                                  Traceback (most recent call last)",
      "\u001b[1;32me:\\Wampserver64\\www\\algorithmic-trading-python\\Tutorial Projects\\001_equal_weight_S&P_500.ipynb Cell 19'\u001b[0m in \u001b[0;36m<cell line: 10>\u001b[1;34m()\u001b[0m\n\u001b[0;32m     <a href='vscode-notebook-cell:/e%3A/Wampserver64/www/algorithmic-trading-python/Tutorial%20Projects/001_equal_weight_S%26P_500.ipynb#ch0000018?line=12'>13</a>\u001b[0m     data \u001b[39m=\u001b[39m requests\u001b[39m.\u001b[39mget(batch_api_call_url)\u001b[39m.\u001b[39mjson()\n\u001b[0;32m     <a href='vscode-notebook-cell:/e%3A/Wampserver64/www/algorithmic-trading-python/Tutorial%20Projects/001_equal_weight_S%26P_500.ipynb#ch0000018?line=14'>15</a>\u001b[0m     \u001b[39mfor\u001b[39;00m symbol \u001b[39min\u001b[39;00m symbol_string\u001b[39m.\u001b[39msplit(\u001b[39m'\u001b[39m\u001b[39m,\u001b[39m\u001b[39m'\u001b[39m):\n\u001b[0;32m     <a href='vscode-notebook-cell:/e%3A/Wampserver64/www/algorithmic-trading-python/Tutorial%20Projects/001_equal_weight_S%26P_500.ipynb#ch0000018?line=15'>16</a>\u001b[0m         final_dataframe \u001b[39m=\u001b[39m final_dataframe\u001b[39m.\u001b[39mappend(\n\u001b[0;32m     <a href='vscode-notebook-cell:/e%3A/Wampserver64/www/algorithmic-trading-python/Tutorial%20Projects/001_equal_weight_S%26P_500.ipynb#ch0000018?line=16'>17</a>\u001b[0m             pd\u001b[39m.\u001b[39mSeries(\n\u001b[0;32m     <a href='vscode-notebook-cell:/e%3A/Wampserver64/www/algorithmic-trading-python/Tutorial%20Projects/001_equal_weight_S%26P_500.ipynb#ch0000018?line=17'>18</a>\u001b[0m                 [\n\u001b[0;32m     <a href='vscode-notebook-cell:/e%3A/Wampserver64/www/algorithmic-trading-python/Tutorial%20Projects/001_equal_weight_S%26P_500.ipynb#ch0000018?line=18'>19</a>\u001b[0m                     symbol,\n\u001b[1;32m---> <a href='vscode-notebook-cell:/e%3A/Wampserver64/www/algorithmic-trading-python/Tutorial%20Projects/001_equal_weight_S%26P_500.ipynb#ch0000018?line=19'>20</a>\u001b[0m                     data[symbol][\u001b[39m'\u001b[39m\u001b[39mquote\u001b[39m\u001b[39m'\u001b[39m][\u001b[39m'\u001b[39m\u001b[39mlatestPrice\u001b[39m\u001b[39m'\u001b[39m],\n\u001b[0;32m     <a href='vscode-notebook-cell:/e%3A/Wampserver64/www/algorithmic-trading-python/Tutorial%20Projects/001_equal_weight_S%26P_500.ipynb#ch0000018?line=20'>21</a>\u001b[0m                     data[symbol][\u001b[39m'\u001b[39m\u001b[39mquote\u001b[39m\u001b[39m'\u001b[39m][\u001b[39m'\u001b[39m\u001b[39mmarketCap\u001b[39m\u001b[39m'\u001b[39m],\n\u001b[0;32m     <a href='vscode-notebook-cell:/e%3A/Wampserver64/www/algorithmic-trading-python/Tutorial%20Projects/001_equal_weight_S%26P_500.ipynb#ch0000018?line=21'>22</a>\u001b[0m                     \u001b[39m'\u001b[39m\u001b[39mN/A\u001b[39m\u001b[39m'\u001b[39m\n\u001b[0;32m     <a href='vscode-notebook-cell:/e%3A/Wampserver64/www/algorithmic-trading-python/Tutorial%20Projects/001_equal_weight_S%26P_500.ipynb#ch0000018?line=22'>23</a>\u001b[0m                 ],\n\u001b[0;32m     <a href='vscode-notebook-cell:/e%3A/Wampserver64/www/algorithmic-trading-python/Tutorial%20Projects/001_equal_weight_S%26P_500.ipynb#ch0000018?line=23'>24</a>\u001b[0m                 index \u001b[39m=\u001b[39m my_columns\n\u001b[0;32m     <a href='vscode-notebook-cell:/e%3A/Wampserver64/www/algorithmic-trading-python/Tutorial%20Projects/001_equal_weight_S%26P_500.ipynb#ch0000018?line=24'>25</a>\u001b[0m             ),\n\u001b[0;32m     <a href='vscode-notebook-cell:/e%3A/Wampserver64/www/algorithmic-trading-python/Tutorial%20Projects/001_equal_weight_S%26P_500.ipynb#ch0000018?line=25'>26</a>\u001b[0m             ignore_index\u001b[39m=\u001b[39m\u001b[39mTrue\u001b[39;00m\n\u001b[0;32m     <a href='vscode-notebook-cell:/e%3A/Wampserver64/www/algorithmic-trading-python/Tutorial%20Projects/001_equal_weight_S%26P_500.ipynb#ch0000018?line=26'>27</a>\u001b[0m         )\n\u001b[0;32m     <a href='vscode-notebook-cell:/e%3A/Wampserver64/www/algorithmic-trading-python/Tutorial%20Projects/001_equal_weight_S%26P_500.ipynb#ch0000018?line=27'>28</a>\u001b[0m final_dataframe\n",
      "\u001b[1;31mKeyError\u001b[0m: 'DISCA'"
     ]
    }
   ],
   "source": [
    "symbol_groups = list(chunks(stocks['Ticker'], 100))\n",
    "symbol_strings = []\n",
    "\n",
    "for i in range(0, len(symbol_groups)):\n",
    "    symbol_strings.append(','.join(symbol_groups[i]))\n",
    "    #print(symbol_strings[i])\n",
    "\n",
    "final_dataframe = pd.DataFrame(columns=my_columns)\n",
    "\n",
    "for symbol_string in symbol_strings:\n",
    "    batch_api_call_url = f'https://sandbox.iexapis.com/stable/stock/market/batch?symbols={symbol_string}&types=quote&token={IEX_CLOUD_API_TOKEN}'\n",
    "    #print(batch_api_call_url)\n",
    "    data = requests.get(batch_api_call_url).json()\n",
    "    \n",
    "    for symbol in symbol_string.split(','):\n",
    "        final_dataframe = final_dataframe.append(\n",
    "            pd.Series(\n",
    "                [\n",
    "                    symbol,\n",
    "                    data[symbol]['quote']['latestPrice'],\n",
    "                    data[symbol]['quote']['marketCap'],\n",
    "                    'N/A'\n",
    "                ],\n",
    "                index = my_columns\n",
    "            ),\n",
    "            ignore_index=True\n",
    "        )\n",
    "final_dataframe"
   ]
  },
  {
   "cell_type": "markdown",
   "metadata": {},
   "source": [
    "## Calculating the Number of Shares to Buy\n",
    "\n",
    "As you can see in the DataFrame above, we stil haven't calculated the number of shares of each stock to buy.\n",
    "\n",
    "We'll do that next."
   ]
  },
  {
   "cell_type": "code",
   "execution_count": null,
   "metadata": {},
   "outputs": [],
   "source": [
    "portfolio_size = input('Enter the value of your portfolio:')\n",
    "\n",
    "try:\n",
    "    val = float(portfolio_size)\n",
    "except ValueError:\n",
    "    print(\"That's not a number! /nPlease try again:\")\n",
    "    portfolio_size = input('Enter the value of your portfolio:')\n",
    "    val = float(portfolio_size)"
   ]
  },
  {
   "cell_type": "code",
   "execution_count": null,
   "metadata": {},
   "outputs": [],
   "source": [
    "position_size = val/len(final_dataframe.index)"
   ]
  },
  {
   "cell_type": "markdown",
   "metadata": {},
   "source": [
    "## Formatting Our Excel Output\n",
    "\n",
    "We will be using the XlsxWriter library for Python to create nicely-formatted Excel files.\n",
    "\n",
    "XlsxWriter is an excellent package and offers tons of customization. However, the tradeoff for this is that the library can seem very complicated to new users. Accordingly, this section will be fairly long because I want to do a good job of explaining how XlsxWriter works.\n",
    "\n",
    "### Initializing our XlsxWriter Object"
   ]
  },
  {
   "cell_type": "code",
   "execution_count": null,
   "metadata": {},
   "outputs": [],
   "source": []
  },
  {
   "cell_type": "markdown",
   "metadata": {},
   "source": [
    "### Creating the Formats We'll Need For Our `.xlsx` File\n",
    "\n",
    "Formats include colors, fonts, and also symbols like `%` and `$`. We'll need four main formats for our Excel document:\n",
    "* String format for tickers\n",
    "* \\\\$XX.XX format for stock prices\n",
    "* \\\\$XX,XXX format for market capitalization\n",
    "* Integer format for the number of shares to purchase"
   ]
  },
  {
   "cell_type": "code",
   "execution_count": null,
   "metadata": {},
   "outputs": [],
   "source": []
  },
  {
   "cell_type": "markdown",
   "metadata": {},
   "source": [
    "### Applying the Formats to the Columns of Our `.xlsx` File\n",
    "\n",
    "We can use the `set_column` method applied to the `writer.sheets['Recommended Trades']` object to apply formats to specific columns of our spreadsheets.\n",
    "\n",
    "Here's an example:\n",
    "\n",
    "```python\n",
    "writer.sheets['Recommended Trades'].set_column('B:B', #This tells the method to apply the format to column B\n",
    "                     18, #This tells the method to apply a column width of 18 pixels\n",
    "                     string_template #This applies the format 'string_template' to the column\n",
    "                    )\n",
    "```"
   ]
  },
  {
   "cell_type": "code",
   "execution_count": null,
   "metadata": {},
   "outputs": [],
   "source": []
  },
  {
   "cell_type": "markdown",
   "metadata": {},
   "source": [
    "This code works, but it violates the software principle of \"Don't Repeat Yourself\". \n",
    "\n",
    "Let's simplify this by putting it in 2 loops:"
   ]
  },
  {
   "cell_type": "code",
   "execution_count": null,
   "metadata": {},
   "outputs": [],
   "source": []
  },
  {
   "cell_type": "markdown",
   "metadata": {},
   "source": [
    "## Saving Our Excel Output\n",
    "\n",
    "Saving our Excel file is very easy:"
   ]
  },
  {
   "cell_type": "code",
   "execution_count": null,
   "metadata": {},
   "outputs": [],
   "source": []
  }
 ],
 "metadata": {
  "interpreter": {
   "hash": "5b85be9e190d88f62328cd9d6cff26361ee9e92084afefb0c3d481ed9914af74"
  },
  "kernelspec": {
   "display_name": "Python 3.9.7 64-bit",
   "language": "python",
   "name": "python3"
  },
  "language_info": {
   "codemirror_mode": {
    "name": "ipython",
    "version": 3
   },
   "file_extension": ".py",
   "mimetype": "text/x-python",
   "name": "python",
   "nbconvert_exporter": "python",
   "pygments_lexer": "ipython3",
   "version": "3.9.7"
  }
 },
 "nbformat": 4,
 "nbformat_minor": 4
}
